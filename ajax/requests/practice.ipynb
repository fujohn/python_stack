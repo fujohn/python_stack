{
 "cells": [
  {
   "cell_type": "code",
   "execution_count": 1,
   "metadata": {},
   "outputs": [],
   "source": [
    "import requests"
   ]
  },
  {
   "cell_type": "code",
   "execution_count": null,
   "metadata": {},
   "outputs": [],
   "source": []
  },
  {
   "cell_type": "code",
   "execution_count": 1,
   "metadata": {},
   "outputs": [
    {
     "ename": "NameError",
     "evalue": "name 'requests' is not defined",
     "output_type": "error",
     "traceback": [
      "\u001b[1;31m---------------------------------------------------------------------------\u001b[0m",
      "\u001b[1;31mNameError\u001b[0m                                 Traceback (most recent call last)",
      "Cell \u001b[1;32mIn[1], line 6\u001b[0m\n\u001b[0;32m      1\u001b[0m payload \u001b[39m=\u001b[39m {\n\u001b[0;32m      2\u001b[0m     \u001b[39m'\u001b[39m\u001b[39mkey\u001b[39m\u001b[39m'\u001b[39m: \u001b[39m'\u001b[39m\u001b[39m____\u001b[39m\u001b[39m'\u001b[39m,\n\u001b[0;32m      3\u001b[0m     \u001b[39m'\u001b[39m\u001b[39mdestination\u001b[39m\u001b[39m'\u001b[39m: \u001b[39m'\u001b[39m\u001b[39mDeluxe+Beaute+Spa+Bellevue+Wa\u001b[39m\u001b[39m'\u001b[39m,\n\u001b[0;32m      4\u001b[0m     \u001b[39m'\u001b[39m\u001b[39morigin\u001b[39m\u001b[39m'\u001b[39m: \u001b[39m'\u001b[39m\u001b[39mThe+Meyden+Bellevue+WA\u001b[39m\u001b[39m'\u001b[39m\n\u001b[0;32m      5\u001b[0m }\n\u001b[1;32m----> 6\u001b[0m r \u001b[39m=\u001b[39m requests\u001b[39m.\u001b[39mget(\u001b[39m'\u001b[39m\u001b[39mhttps://maps.googleapis.com/maps/api/directions/json\u001b[39m\u001b[39m'\u001b[39m, params \u001b[39m=\u001b[39m payload)\n\u001b[0;32m      7\u001b[0m \u001b[39mprint\u001b[39m(r\u001b[39m.\u001b[39murl)\n\u001b[0;32m      8\u001b[0m test_path \u001b[39m=\u001b[39m r\u001b[39m.\u001b[39mjson()\n",
      "\u001b[1;31mNameError\u001b[0m: name 'requests' is not defined"
     ]
    }
   ],
   "source": [
    "payload = {\n",
    "    'key': '____',\n",
    "    'destination': 'Deluxe+Beaute+Spa+Bellevue+Wa',\n",
    "    'origin': 'The+Meyden+Bellevue+WA'\n",
    "}\n",
    "r = requests.get('https://maps.googleapis.com/maps/api/directions/json', params = payload)\n",
    "print(r.url)\n",
    "test_path = r.json()\n",
    "duration = test_path['routes'][0]['legs'][0]['duration']['text']\n",
    "print(duration)"
   ]
  },
  {
   "cell_type": "code",
   "execution_count": null,
   "metadata": {},
   "outputs": [],
   "source": []
  }
 ],
 "metadata": {
  "kernelspec": {
   "display_name": "Python 3",
   "language": "python",
   "name": "python3"
  },
  "language_info": {
   "codemirror_mode": {
    "name": "ipython",
    "version": 3
   },
   "file_extension": ".py",
   "mimetype": "text/x-python",
   "name": "python",
   "nbconvert_exporter": "python",
   "pygments_lexer": "ipython3",
   "version": "3.10.6"
  },
  "orig_nbformat": 4,
  "vscode": {
   "interpreter": {
    "hash": "80315c1ee4e6a564eb9d2c0e64ec339ad10fcba75b330ae4d06a5075f1c55df0"
   }
  }
 },
 "nbformat": 4,
 "nbformat_minor": 2
}
