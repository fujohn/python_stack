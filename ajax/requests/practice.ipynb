{
 "cells": [
  {
   "cell_type": "code",
   "execution_count": 1,
   "metadata": {},
   "outputs": [],
   "source": [
    "import requests"
   ]
  },
  {
   "cell_type": "code",
   "execution_count": null,
   "metadata": {},
   "outputs": [],
   "source": [
    "payload = {\n",
    "    'key': '____',\n",
    "    'destination': 'Deluxe+Beaute+Spa+Bellevue+Wa',\n",
    "    'origin': 'The+Meyden+Bellevue+WA'\n",
    "}\n",
    "r = requests.get('https://maps.googleapis.com/maps/api/directions/json', params = payload)\n",
    "print(r.url)\n",
    "test_path = r.json()\n",
    "duration = test_path['routes'][0]['legs'][0]['duration']['text']\n",
    "print(duration)"
   ]
  },
  {
   "cell_type": "code",
   "execution_count": null,
   "metadata": {},
   "outputs": [],
   "source": []
  }
 ],
 "metadata": {
  "kernelspec": {
   "display_name": "Python 3",
   "language": "python",
   "name": "python3"
  },
  "language_info": {
   "codemirror_mode": {
    "name": "ipython",
    "version": 3
   },
   "file_extension": ".py",
   "mimetype": "text/x-python",
   "name": "python",
   "nbconvert_exporter": "python",
   "pygments_lexer": "ipython3",
   "version": "3.10.6"
  },
  "orig_nbformat": 4,
  "vscode": {
   "interpreter": {
    "hash": "80315c1ee4e6a564eb9d2c0e64ec339ad10fcba75b330ae4d06a5075f1c55df0"
   }
  }
 },
 "nbformat": 4,
 "nbformat_minor": 2
}
